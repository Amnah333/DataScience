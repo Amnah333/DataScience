{
 "cells": [
  {
   "cell_type": "markdown",
   "id": "d7c106bc-aac0-42e8-9a05-c78b9e531f4a",
   "metadata": {},
   "source": [
    "Exercise 2: Title> Data Science Tools and Ecosystem"
   ]
  },
  {
   "cell_type": "markdown",
   "id": "3668f9c3-da2b-4f54-af03-81c44288eb14",
   "metadata": {},
   "source": [
    "Exercise 3: In this notebook, Data Science Tools and Ecosystem are summarized."
   ]
  },
  {
   "cell_type": "markdown",
   "id": "1c9af231-b98c-4089-886e-976535cff46e",
   "metadata": {},
   "source": [
    "Exercise 4:\n",
    "    Some of the popular languages that Data Scientists use are:\n",
    "        Python\n",
    "        R\n",
    "        Java\n",
    "        Scala\n",
    "        "
   ]
  },
  {
   "cell_type": "markdown",
   "id": "d4d8e48f-989c-47d2-8fa4-d54689e9f295",
   "metadata": {},
   "source": [
    "Exercise 5:\n",
    "    Some of the commonly used libraries used by Data Scientists include:\n",
    "        NumPy\n",
    "        Pandas\n",
    "        PyTorch\n",
    "        Matplotlib\n",
    "        Seaborn"
   ]
  },
  {
   "cell_type": "markdown",
   "id": "00b01eed-ed93-46de-b589-421d165361fa",
   "metadata": {},
   "source": [
    "Exercise 6: \n",
    "                                  Data Science Tools\n",
    "    RStudio is one of the most well-known open-source tools for data scientists. \n",
    "    Apache Spark is an engine that is primarily used with SQL\n",
    "     TensorFlow Presented as an open-source machine learning platform\n",
    "    "
   ]
  },
  {
   "cell_type": "markdown",
   "id": "13296500-0a56-4903-9b1f-7c7f128a1f6d",
   "metadata": {},
   "source": [
    "Exercise 7:\n",
    "    few examples of evaluating arithmetic expressions in Python:\n",
    "     \n",
    "            +\tx + y\tAddition\n",
    "            –\tx – y\tSubtraction\n",
    "            *\tx * y\tMultiplication\n",
    "            /\tx / y\tDivision\n",
    "            //\tx // y\tQuotient\n",
    "            %\tx % y\tRemainder\n",
    "            **\tx ** y\tExponentiation"
   ]
  },
  {
   "cell_type": "code",
   "execution_count": 8,
   "id": "39417b9e-632b-4172-a1da-77d0da156f05",
   "metadata": {
    "tags": []
   },
   "outputs": [
    {
     "name": "stdout",
     "output_type": "stream",
     "text": [
      "25\n"
     ]
    }
   ],
   "source": [
    "#Exercise 8:\n",
    "x = (4*5)+5\n",
    "print(x)\n",
    "    #This a simple arithmetic expression to mutiply then add integers."
   ]
  },
  {
   "cell_type": "code",
   "execution_count": 10,
   "id": "6f025947-3049-4db3-b4d8-c74cddef1fa7",
   "metadata": {
    "tags": []
   },
   "outputs": [
    {
     "name": "stdout",
     "output_type": "stream",
     "text": [
      "3\n"
     ]
    }
   ],
   "source": [
    "#Exercise 9: \n",
    "T = 200//60\n",
    "print(T)\n",
    "    "
   ]
  },
  {
   "cell_type": "markdown",
   "id": "c14b4c1b-0a13-41d5-af0d-521f9d4a1b5e",
   "metadata": {},
   "source": [
    "Exercise 10:\n",
    "    Objectives:\n",
    "        1- How to Create a markdown\n",
    "        2- Data science tools  \n",
    "        3- Data science libraries"
   ]
  },
  {
   "cell_type": "markdown",
   "id": "3caecf59-6d26-4548-8773-fe6b8e5b3eee",
   "metadata": {},
   "source": [
    "Exercise 11: \n",
    "    Author's name/Amnah"
   ]
  }
 ],
 "metadata": {
  "kernelspec": {
   "display_name": "Python",
   "language": "python",
   "name": "conda-env-python-py"
  },
  "language_info": {
   "codemirror_mode": {
    "name": "ipython",
    "version": 3
   },
   "file_extension": ".py",
   "mimetype": "text/x-python",
   "name": "python",
   "nbconvert_exporter": "python",
   "pygments_lexer": "ipython3",
   "version": "3.7.12"
  }
 },
 "nbformat": 4,
 "nbformat_minor": 5
}
